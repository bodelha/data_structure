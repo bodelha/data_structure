{
 "metadata": {
  "language_info": {
   "codemirror_mode": {
    "name": "ipython",
    "version": 3
   },
   "file_extension": ".py",
   "mimetype": "text/x-python",
   "name": "python",
   "nbconvert_exporter": "python",
   "pygments_lexer": "ipython3",
   "version": "3.7.6-final"
  },
  "orig_nbformat": 2,
  "kernelspec": {
   "name": "python_defaultSpec_1600914330130",
   "display_name": "Python 3.7.6 64-bit ('Miniconda3': conda)"
  }
 },
 "nbformat": 4,
 "nbformat_minor": 2,
 "cells": [
  {
   "cell_type": "code",
   "execution_count": 1,
   "metadata": {},
   "outputs": [],
   "source": [
    "import numpy as np"
   ]
  },
  {
   "cell_type": "code",
   "execution_count": null,
   "metadata": {},
   "outputs": [],
   "source": [
    "def shell_sort (vetor):\n",
    "    intervalo = len (vetor) // 2\n",
    "    while intervalo > 0:\n",
    "        for i in range(intervalo, len (vetor)):\n",
    "            temp = vetor [i]\n",
    "            j = i\n",
    "            while j > 0 and vetor [j-intervalo] > temp:\n",
    "                vetor [j] = vetor [j-intervalo]\n",
    "                j -= 1\n",
    "            vetor [j] = temp\n",
    "        intervalo //= 2\n",
    "    return vetor"
   ]
  }
 ]
}