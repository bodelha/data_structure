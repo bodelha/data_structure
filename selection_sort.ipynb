{
 "metadata": {
  "language_info": {
   "codemirror_mode": {
    "name": "ipython",
    "version": 3
   },
   "file_extension": ".py",
   "mimetype": "text/x-python",
   "name": "python",
   "nbconvert_exporter": "python",
   "pygments_lexer": "ipython3",
   "version": "3.7.6-final"
  },
  "orig_nbformat": 2,
  "kernelspec": {
   "name": "python_defaultSpec_1600908046283",
   "display_name": "Python 3.7.6 64-bit ('Miniconda3': conda)"
  }
 },
 "nbformat": 4,
 "nbformat_minor": 2,
 "cells": [
  {
   "cell_type": "code",
   "execution_count": 1,
   "metadata": {},
   "outputs": [],
   "source": [
    "import numpy as np"
   ]
  },
  {
   "cell_type": "code",
   "execution_count": 2,
   "metadata": {},
   "outputs": [],
   "source": [
    "def selection_sort (vetor):\n",
    "    n = len(vetor)\n",
    "    for i in range (n):\n",
    "        minimo = i\n",
    "        for j in range(i + 1, n):\n",
    "            if vetor [minimo] > vetor [j]:\n",
    "                minimo = j\n",
    "        temp = vetor[i]\n",
    "        vetor [i] = vetor[minimo]\n",
    "        vetor [minimo] = temp\n",
    "    return vetor\n",
    "        "
   ]
  },
  {
   "cell_type": "code",
   "execution_count": 3,
   "metadata": {},
   "outputs": [
    {
     "output_type": "execute_result",
     "data": {
      "text/plain": "array([ 3,  8, 15, 34])"
     },
     "metadata": {},
     "execution_count": 3
    }
   ],
   "source": [
    "selection_sort(np.array([3,8,34,15]))"
   ]
  },
  {
   "cell_type": "code",
   "execution_count": null,
   "metadata": {},
   "outputs": [],
   "source": []
  }
 ]
}