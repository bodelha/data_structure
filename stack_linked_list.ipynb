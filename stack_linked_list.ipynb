{
 "metadata": {
  "language_info": {
   "codemirror_mode": {
    "name": "ipython",
    "version": 3
   },
   "file_extension": ".py",
   "mimetype": "text/x-python",
   "name": "python",
   "nbconvert_exporter": "python",
   "pygments_lexer": "ipython3",
   "version": "3.7.6-final"
  },
  "orig_nbformat": 2,
  "kernelspec": {
   "name": "python_defaultSpec_1600466238615",
   "display_name": "Python 3.7.6 64-bit ('Miniconda3': conda)"
  }
 },
 "nbformat": 4,
 "nbformat_minor": 2,
 "cells": [
  {
   "cell_type": "code",
   "execution_count": 1,
   "metadata": {},
   "outputs": [],
   "source": [
    "class Node:\n",
    "    def __init__ (self, valor):\n",
    "        self.valor = valor\n",
    "        self.abaixo = None\n",
    "    \n",
    "    def mostra_no (self):\n",
    "        print (self.valor)\n",
    "\n",
    "class StackLinkedList:\n",
    "    def __init__ (self):\n",
    "        self.topo = None\n",
    "\n",
    "    def __pilha_vazia (self):\n",
    "        return not self.topo\n",
    "\n",
    "    def empilha (self, valor):\n",
    "        new = Node(valor)\n",
    "        if not self.__pilha_vazia():\n",
    "            new.abaixo = self.topo\n",
    "        self.topo = new\n",
    "\n",
    "    def desempilha (self):\n",
    "        temp = self.topo\n",
    "        if not self.__pilha_vazia():\n",
    "            self.topo = self.topo.abaixo\n",
    "        return temp\n",
    "\n",
    "    def ver_topo (self):\n",
    "        print (self.topo.valor)"
   ]
  },
  {
   "cell_type": "code",
   "execution_count": null,
   "metadata": {},
   "outputs": [],
   "source": []
  }
 ]
}