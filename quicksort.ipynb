{
 "metadata": {
  "language_info": {
   "codemirror_mode": {
    "name": "ipython",
    "version": 3
   },
   "file_extension": ".py",
   "mimetype": "text/x-python",
   "name": "python",
   "nbconvert_exporter": "python",
   "pygments_lexer": "ipython3",
   "version": 3
  },
  "orig_nbformat": 2
 },
 "nbformat": 4,
 "nbformat_minor": 2,
 "cells": [
  {
   "cell_type": "code",
   "execution_count": null,
   "metadata": {},
   "outputs": [],
   "source": [
    "def particao (vetor, inicio, fim):\n",
    "    pivo = vetor [fim]\n",
    "    i = inicio - 1\n",
    "    for j in range (inicio, fim):\n",
    "        if vetor [j] <= pivo:\n",
    "            i += 1\n",
    "            vetor [i], vetor [j] = vetor [j], vetor [i]\n",
    "    vetor [i+1], vetor [fim] = vetor [fim], vetor [i+1]\n",
    "    return i + 1\n",
    "\n",
    "def quick_sort (vetor, inicio, fim):\n",
    "    if inicio < fim:\n",
    "        posicao = particao (vetor, inicio, fim)\n",
    "        quick_sort(vetor, inicio, posicao - 1)\n",
    "        quick_sort(vetor, posicao + 1, fim)\n",
    "    return vetor"
   ]
  }
 ]
}