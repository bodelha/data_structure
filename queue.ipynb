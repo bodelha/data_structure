{
 "metadata": {
  "language_info": {
   "codemirror_mode": {
    "name": "ipython",
    "version": 3
   },
   "file_extension": ".py",
   "mimetype": "text/x-python",
   "name": "python",
   "nbconvert_exporter": "python",
   "pygments_lexer": "ipython3",
   "version": "3.7.6-final"
  },
  "orig_nbformat": 2,
  "kernelspec": {
   "name": "python_defaultSpec_1599011997603",
   "display_name": "Python 3.7.6 64-bit ('Anaconda3': conda)"
  }
 },
 "nbformat": 4,
 "nbformat_minor": 2,
 "cells": [
  {
   "cell_type": "code",
   "execution_count": 1,
   "metadata": {},
   "outputs": [],
   "source": [
    "import numpy as np"
   ]
  },
  {
   "cell_type": "code",
   "execution_count": 19,
   "metadata": {},
   "outputs": [],
   "source": [
    "class CircularQueue:\n",
    "    def __init__ (self, capacidade):\n",
    "        self.__capacidade = capacidade\n",
    "        self.__inicio = 0\n",
    "        self.__fim = -1\n",
    "        self.__numero_de_elementos = 0\n",
    "        self.__valores = np.empty(self.__capacidade, dtype=int)\n",
    "\n",
    "    def insert (self, valor):\n",
    "        if self.__numero_de_elementos != self.__capacidade:\n",
    "            if self.__fim < self.__capacidade - 1:\n",
    "                self.__fim += 1\n",
    "            else:\n",
    "                self.__fim = 0\n",
    "            self.__numero_de_elementos += 1\n",
    "            self.__valores[self.__fim] = valor\n",
    "        else:\n",
    "            print ('Fila lotada')\n",
    "\n",
    "    def out (self):\n",
    "        if self.__numero_de_elementos != 0:\n",
    "            temp = self.__valores[self.__inicio]\n",
    "            self.__numero_de_elementos -=1\n",
    "            if self.__inicio < self.__capacidade -1:\n",
    "                self.__inicio += 1\n",
    "            else:\n",
    "                self.__inicio = 0\n",
    "            return temp\n",
    "        else:\n",
    "            print('Fila vazia!')\n",
    "            return\n",
    "\n",
    "    def primeiro (self):\n",
    "        if self.__numero_de_elementos != 0:\n",
    "            return self.__valores[self.__inicio]\n",
    "        return -1\n",
    "\n"
   ]
  },
  {
   "cell_type": "code",
   "execution_count": 20,
   "metadata": {},
   "outputs": [],
   "source": [
    "fila = CircularQueue (5)"
   ]
  },
  {
   "cell_type": "code",
   "execution_count": 24,
   "metadata": {},
   "outputs": [
    {
     "output_type": "execute_result",
     "data": {
      "text/plain": "4"
     },
     "metadata": {},
     "execution_count": 24
    }
   ],
   "source": [
    "fila.primeiro()"
   ]
  },
  {
   "cell_type": "code",
   "execution_count": 22,
   "metadata": {},
   "outputs": [
    {
     "output_type": "execute_result",
     "data": {
      "text/plain": "1"
     },
     "metadata": {},
     "execution_count": 22
    }
   ],
   "source": [
    "fila.insert(1)\n",
    "fila.insert(2)\n",
    "fila.insert(3)\n",
    "fila.insert(4)\n",
    "fila.primeiro()"
   ]
  },
  {
   "cell_type": "code",
   "execution_count": 23,
   "metadata": {
    "tags": []
   },
   "outputs": [
    {
     "output_type": "execute_result",
     "data": {
      "text/plain": "3"
     },
     "metadata": {},
     "execution_count": 23
    }
   ],
   "source": [
    "fila.out()\n",
    "fila.out()\n",
    "fila.out()\n"
   ]
  },
  {
   "cell_type": "code",
   "execution_count": null,
   "metadata": {},
   "outputs": [],
   "source": []
  }
 ]
}