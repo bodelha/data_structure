{
 "metadata": {
  "language_info": {
   "codemirror_mode": {
    "name": "ipython",
    "version": 3
   },
   "file_extension": ".py",
   "mimetype": "text/x-python",
   "name": "python",
   "nbconvert_exporter": "python",
   "pygments_lexer": "ipython3",
   "version": "3.7.6-final"
  },
  "orig_nbformat": 2,
  "kernelspec": {
   "name": "python_defaultSpec_1599962786328",
   "display_name": "Python 3.7.6 64-bit ('Miniconda3': conda)"
  }
 },
 "nbformat": 4,
 "nbformat_minor": 2,
 "cells": [
  {
   "cell_type": "code",
   "execution_count": 3,
   "metadata": {},
   "outputs": [],
   "source": [
    "class Node:\n",
    "    def __init__ (self, valor):\n",
    "        self.valor = valor\n",
    "        self.next = None\n",
    "    \n",
    "    def mostra_no (self):\n",
    "        print (self.valor)\n",
    "\n",
    "class DoubleEndedLinkedList:\n",
    "    def __init__ (self):\n",
    "        self.head = None\n",
    "        self.tail = None\n",
    "\n",
    "    def __vazia (self):\n",
    "        return not self.head\n",
    "    \n",
    "    def insere_inicio (self, valor):\n",
    "        new = Node (valor)\n",
    "        if self.__vazia():\n",
    "            self.tail = new\n",
    "        new.next = self.head\n",
    "        self.head = new\n",
    "    \n",
    "    def insere_final (self, valor):\n",
    "        new = Node (valor)\n",
    "        if self.__vazia():\n",
    "            self.head = new\n",
    "            self.tail = new\n",
    "            return\n",
    "        self.tail.next = new\n",
    "        self.tail = new\n",
    "\n",
    "    def exclui_inicio (self):\n",
    "        if self.__vazia():\n",
    "            print ('Vazia')\n",
    "            return\n",
    "        temp = self.head.valor\n",
    "        self.head = self.head.next\n",
    "        if not self.head:\n",
    "            self.tail = None\n",
    "        return temp\n",
    "\n",
    "    def exclui_valor (self, valor):\n",
    "        if self.__vazia():\n",
    "            print (\"Vazia\")\n",
    "            return\n",
    "        atual = self.head\n",
    "        while atual.next:\n",
    "            if atual.next.valor == valor:\n",
    "                atual.next = atual.next.next\n",
    "                break\n",
    "            atual = atual.next                \n",
    "        else:\n",
    "            return False\n",
    "\n",
    "    def mostrar (self):\n",
    "        out = []\n",
    "        atual = self.head\n",
    "        while atual:\n",
    "            out.append(atual.valor)\n",
    "            atual = atual.next\n",
    "        print (out)\n",
    "\n",
    "    def pesquisa (self, valor):\n",
    "        atual = self.head\n",
    "        while atual:\n",
    "            if atual.valor == valor:\n",
    "                return True\n",
    "            atual = atual.next\n",
    "        else:\n",
    "            return False"
   ]
  },
  {
   "cell_type": "code",
   "execution_count": 9,
   "metadata": {
    "tags": []
   },
   "outputs": [
    {
     "output_type": "stream",
     "name": "stdout",
     "text": "[3]\n"
    }
   ],
   "source": [
    "lista = DoubleEndedLinkedList()\n",
    "lista.insere_inicio(3)\n",
    "lista.mostrar()"
   ]
  },
  {
   "cell_type": "code",
   "execution_count": 15,
   "metadata": {},
   "outputs": [
    {
     "output_type": "execute_result",
     "data": {
      "text/plain": "(<__main__.Node at 0x1d81a791508>, <__main__.Node at 0x1d81a791688>)"
     },
     "metadata": {},
     "execution_count": 15
    }
   ],
   "source": [
    "lista.head, lista.tail"
   ]
  },
  {
   "cell_type": "code",
   "execution_count": 12,
   "metadata": {
    "tags": []
   },
   "outputs": [
    {
     "output_type": "stream",
     "name": "stdout",
     "text": "[9, 3, 6]\n"
    }
   ],
   "source": [
    "lista.insere_final(6)\n",
    "lista.insere_inicio(9)\n",
    "lista.mostrar()"
   ]
  },
  {
   "cell_type": "code",
   "execution_count": 23,
   "metadata": {},
   "outputs": [
    {
     "output_type": "execute_result",
     "data": {
      "text/plain": "True"
     },
     "metadata": {},
     "execution_count": 23
    }
   ],
   "source": [
    "lista.pesquisa(6)"
   ]
  },
  {
   "cell_type": "code",
   "execution_count": 34,
   "metadata": {
    "tags": []
   },
   "outputs": [
    {
     "output_type": "stream",
     "name": "stdout",
     "text": "[9, 3, 6]\n"
    }
   ],
   "source": [
    "lista.exclui_valor(6)\n",
    "lista.mostrar()"
   ]
  },
  {
   "cell_type": "code",
   "execution_count": 31,
   "metadata": {
    "tags": []
   },
   "outputs": [
    {
     "output_type": "stream",
     "name": "stdout",
     "text": "[3, 6]\n"
    }
   ],
   "source": [
    "lista.exclui_inicio()\n",
    "lista.mostrar()"
   ]
  },
  {
   "cell_type": "code",
   "execution_count": 36,
   "metadata": {
    "tags": []
   },
   "outputs": [],
   "source": [
    "lista = DoubleEndedLinkedList ()\n",
    "lista.insere_inicio(8)\n",
    "lista.insere_inicio(5)\n",
    "lista.insere_fim(6)\n",
    "lista.insere_inicio(-3)\n",
    "lista.insere_inicio(0)\n",
    "lista.mostrar()\n",
    "lista.exclui_inicio()\n",
    "lista.mostrar()\n",
    "lista.exclui_valor(-3)\n",
    "lista.mostrar()"
   ]
  }
 ]
}