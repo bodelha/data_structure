{
 "metadata": {
  "language_info": {
   "codemirror_mode": {
    "name": "ipython",
    "version": 3
   },
   "file_extension": ".py",
   "mimetype": "text/x-python",
   "name": "python",
   "nbconvert_exporter": "python",
   "pygments_lexer": "ipython3",
   "version": "3.7.6-final"
  },
  "orig_nbformat": 2,
  "kernelspec": {
   "name": "python_defaultSpec_1599962786328",
   "display_name": "Python 3.7.6 64-bit ('Miniconda3': conda)"
  }
 },
 "nbformat": 4,
 "nbformat_minor": 2,
 "cells": [
  {
   "cell_type": "code",
   "execution_count": 3,
   "metadata": {},
   "outputs": [],
   "source": [
    "class Node:\n",
    "    def __init__ (self, valor):\n",
    "        self.valor = valor\n",
    "        self.prev = None\n",
    "        self.next = None\n",
    "\n",
    "    def show (self):\n",
    "        print (\n",
    "            f\"Valor = {self.valor}\", \n",
    "            f\"Anterior = {self.prev}\", \n",
    "            f\"Próximo = {self.next}\", \n",
    "            sep='\\n'\n",
    "            )    \n",
    "\n",
    "class DoublyLinkedList:\n",
    "    def __init__ (self):\n",
    "        self.head = None\n",
    "        self.tail = None\n",
    "        self.__old = None\n",
    "        self.__new = None\n",
    "    \n",
    "    def __lista_vazia (self):\n",
    "        if not self.head and not self.tail:\n",
    "            print (\"Vazia\")\n",
    "            return True\n",
    "        return False\n",
    "\n",
    "    def __adjust_left (self, new, old):\n",
    "        self.__new, self.__old = new, old\n",
    "        if self.__old:\n",
    "            self.__old.prev = self.__new\n",
    "        self.__new.next = self.__old\n",
    "    \n",
    "    def __adjust_right (self, old, new):\n",
    "        self.__old, self.__new = old, new\n",
    "        if self.__old:\n",
    "            self.__old.next = self.__new\n",
    "        self.__new.prev = self.__old\n",
    "\n",
    "    def insere_inicio (self, valor):\n",
    "        new = Node (valor)\n",
    "        if self.__lista_vazia ():\n",
    "            self.tail = new\n",
    "        else:\n",
    "            self.__adjust_left (new, self.head)\n",
    "        self.head = new\n",
    "\n",
    "    def insere_final (self, valor):\n",
    "        new = Node (valor)\n",
    "        if self.__lista_vazia ():\n",
    "            self.head = new\n",
    "        else:\n",
    "            self.__adjust_right (self.tail, new)\n",
    "        self.tail = new\n",
    "\n",
    "    def exclui_inicio (self):\n",
    "        if self.head == self.tail:\n",
    "            self.head = None\n",
    "            self.tail = None\n",
    "            return\n",
    "        self.__adjust_right (None, self.head.next)\n",
    "        self.head = self.head.next\n",
    "\n",
    "    def exclui_final (self):\n",
    "        if self.head == self.tail:\n",
    "            self.head = None\n",
    "            self.tail = None\n",
    "            return\n",
    "        self.__adjust_left (self.tail.prev, None)\n",
    "        self.tail = self.tail.prev\n",
    "\n",
    "    def exclui_valor (self, valor):\n",
    "        if self.__lista_vazia:\n",
    "            return\n",
    "        if self.head.valor == valor:\n",
    "            return exclui_inicio ()\n",
    "        if self.tail.valor == valor:\n",
    "            return exclui_final ()\n",
    "        atual1 = self.head.next\n",
    "        atual2 = self.tail.prev\n",
    "        while atual1.valor != valor and atual2.valor != valor:\n",
    "            if atual1 == atual2 or atual1 == atual2.prev:\n",
    "                print ('Não está na lista')\n",
    "                return\n",
    "            atual1 = atual1.next\n",
    "            atual2 = atual2.prev\n",
    "        atual = atual1 if atual1.valor == valor else atual2\n",
    "        self.__adjust_left (atual.prev, atual.next)\n",
    "\n",
    "    def mostrar (self):\n",
    "        atual = self.head\n",
    "        while atual:\n",
    "            atual.show()\n",
    "            atual = atual.next"
   ]
  },
  {
   "cell_type": "code",
   "execution_count": 9,
   "metadata": {
    "tags": []
   },
   "outputs": [
    {
     "output_type": "stream",
     "name": "stdout",
     "text": "[3]\n"
    }
   ],
   "source": [
    "lista = DoubleEndedLinkedList()\n",
    "lista.insere_inicio(3)\n",
    "lista.mostrar()"
   ]
  },
  {
   "cell_type": "code",
   "execution_count": 15,
   "metadata": {},
   "outputs": [
    {
     "output_type": "execute_result",
     "data": {
      "text/plain": "(<__main__.Node at 0x1d81a791508>, <__main__.Node at 0x1d81a791688>)"
     },
     "metadata": {},
     "execution_count": 15
    }
   ],
   "source": [
    "lista.head, lista.tail"
   ]
  },
  {
   "cell_type": "code",
   "execution_count": 12,
   "metadata": {
    "tags": []
   },
   "outputs": [
    {
     "output_type": "stream",
     "name": "stdout",
     "text": "[9, 3, 6]\n"
    }
   ],
   "source": [
    "lista.insere_final(6)\n",
    "lista.insere_inicio(9)\n",
    "lista.mostrar()"
   ]
  },
  {
   "cell_type": "code",
   "execution_count": 23,
   "metadata": {},
   "outputs": [
    {
     "output_type": "execute_result",
     "data": {
      "text/plain": "True"
     },
     "metadata": {},
     "execution_count": 23
    }
   ],
   "source": [
    "lista.pesquisa(6)"
   ]
  },
  {
   "cell_type": "code",
   "execution_count": 34,
   "metadata": {
    "tags": []
   },
   "outputs": [
    {
     "output_type": "stream",
     "name": "stdout",
     "text": "[9, 3, 6]\n"
    }
   ],
   "source": [
    "lista.exclui_valor(6)\n",
    "lista.mostrar()"
   ]
  },
  {
   "cell_type": "code",
   "execution_count": 31,
   "metadata": {
    "tags": []
   },
   "outputs": [
    {
     "output_type": "stream",
     "name": "stdout",
     "text": "[3, 6]\n"
    }
   ],
   "source": [
    "lista.exclui_inicio()\n",
    "lista.mostrar()"
   ]
  },
  {
   "cell_type": "code",
   "execution_count": 36,
   "metadata": {
    "tags": []
   },
   "outputs": [],
   "source": [
    "lista = DoubleEndedLinkedList ()\n",
    "lista.insere_inicio(8)\n",
    "lista.insere_inicio(5)\n",
    "lista.insere_fim(6)\n",
    "lista.insere_inicio(-3)\n",
    "lista.insere_inicio(0)\n",
    "lista.mostrar()\n",
    "lista.exclui_inicio()\n",
    "lista.mostrar()\n",
    "lista.exclui_valor(-3)\n",
    "lista.mostrar()"
   ]
  }
 ]
}