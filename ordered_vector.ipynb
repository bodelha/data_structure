{
 "metadata": {
  "language_info": {
   "codemirror_mode": {
    "name": "ipython",
    "version": 3
   },
   "file_extension": ".py",
   "mimetype": "text/x-python",
   "name": "python",
   "nbconvert_exporter": "python",
   "pygments_lexer": "ipython3",
   "version": "3.7.6-final"
  },
  "orig_nbformat": 2,
  "kernelspec": {
   "name": "python_defaultSpec_1598218621577",
   "display_name": "Python 3.7.6 64-bit ('Anaconda3': conda)"
  }
 },
 "nbformat": 4,
 "nbformat_minor": 2,
 "cells": [
  {
   "cell_type": "code",
   "execution_count": 8,
   "metadata": {},
   "outputs": [],
   "source": [
    "import numpy as np\n",
    "\n",
    "class VetorOrdenado:\n",
    "    def __init__(self, capacidade):\n",
    "        self.capacidade = capacidade\n",
    "        self.ultima_posicao = -1\n",
    "        self.valores = np.empty(self.capacidade, dtype = int)\n",
    "\n",
    "    def imprime(self):\n",
    "        if self.ultima_posicao == -1:\n",
    "            print(\"O vetor está vazio\")\n",
    "        else:\n",
    "            for i in range (self.ultima_posicao + 1):\n",
    "                print(i, \" - \", self.valores[i])\n",
    "\n",
    "    def busca_linear (self, valor):\n",
    "        for i in range (self.ultima_posicao + 1):\n",
    "            if valor == self.valores[i]:\n",
    "                return i\n",
    "            elif self.valores[i]> valor or i == self.ultima_posicao:\n",
    "                return -1\n",
    "\n",
    "    def insert (self, valor):\n",
    "        if self.ultima_posicao == self.capacidade - 1:\n",
    "            print(\"capacidade máxima atingida\")\n",
    "            return\n",
    "        posicao = self.ultima_posicao + 1\n",
    "        for i in range (self.ultima_posicao + 1):\n",
    "            if self.valores[i] > valor:\n",
    "                posicao = i\n",
    "                break\n",
    "        self.ultima_posicao += 1\n",
    "        for i in range (self.ultima_posicao, posicao, -1):\n",
    "            self.valores [i] = self.valores [i-1]\n",
    "        self.valores[posicao] = valor\n",
    "\n",
    "    def excluir (self, valor):\n",
    "        posicao = self.busca_linear (valor)\n",
    "        if posicao == -1:\n",
    "            return -1\n",
    "        else:\n",
    "            for i in range (posicao, self.ultima_posicao):\n",
    "                self.valores[i] = self.valores [i+1]\n",
    "            self.ultima_posicao -= 1\n",
    "\n",
    "    def busca_binaria (self, valor):\n",
    "        i = self.ultima_posicao\n",
    "        expo = 0\n",
    "        while self.ultima_posicao//(2**expo) != 0:\n",
    "            expo += 1\n",
    "            if valor == self.valores[i]:\n",
    "                return i\n",
    "            elif valor < self.valores[i]:\n",
    "                i -= self.ultima_posicao//(2**expo)\n",
    "            else:\n",
    "                i += self.ultima_posicao//(2**expo)\n",
    "        return -1"
   ]
  },
  {
   "cell_type": "code",
   "execution_count": 9,
   "metadata": {
    "tags": []
   },
   "outputs": [
    {
     "output_type": "stream",
     "name": "stdout",
     "text": "O vetor está vazio\n"
    }
   ],
   "source": [
    "vetor = VetorOrdenado (10)\n",
    "vetor.imprime()"
   ]
  },
  {
   "cell_type": "code",
   "execution_count": 10,
   "metadata": {
    "tags": []
   },
   "outputs": [
    {
     "output_type": "stream",
     "name": "stdout",
     "text": "0  -  1\n1  -  3\n2  -  4\n3  -  6\n4  -  8\n"
    }
   ],
   "source": [
    "vetor.insert(6)\n",
    "vetor.insert(3)\n",
    "vetor.insert(4)\n",
    "vetor.insert(1)\n",
    "vetor.insert(8)\n",
    "vetor.imprime()"
   ]
  },
  {
   "cell_type": "code",
   "execution_count": 15,
   "metadata": {
    "tags": []
   },
   "outputs": [
    {
     "output_type": "execute_result",
     "data": {
      "text/plain": "-1"
     },
     "metadata": {},
     "execution_count": 15
    }
   ],
   "source": [
    "vetor.busca_linear (7)"
   ]
  },
  {
   "cell_type": "code",
   "execution_count": 16,
   "metadata": {},
   "outputs": [
    {
     "output_type": "execute_result",
     "data": {
      "text/plain": "-1"
     },
     "metadata": {},
     "execution_count": 16
    }
   ],
   "source": [
    "vetor.busca_binaria (7)\n"
   ]
  },
  {
   "cell_type": "code",
   "execution_count": null,
   "metadata": {},
   "outputs": [],
   "source": []
  }
 ]
}