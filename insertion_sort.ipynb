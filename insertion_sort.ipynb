{
 "metadata": {
  "language_info": {
   "codemirror_mode": {
    "name": "ipython",
    "version": 3
   },
   "file_extension": ".py",
   "mimetype": "text/x-python",
   "name": "python",
   "nbconvert_exporter": "python",
   "pygments_lexer": "ipython3",
   "version": "3.7.6-final"
  },
  "orig_nbformat": 2,
  "kernelspec": {
   "name": "python_defaultSpec_1600912455750",
   "display_name": "Python 3.7.6 64-bit ('Miniconda3': conda)"
  }
 },
 "nbformat": 4,
 "nbformat_minor": 2,
 "cells": [
  {
   "cell_type": "code",
   "execution_count": 1,
   "metadata": {},
   "outputs": [],
   "source": [
    "import numpy as np"
   ]
  },
  {
   "cell_type": "code",
   "execution_count": null,
   "metadata": {},
   "outputs": [],
   "source": [
    "def insertion_sort (vetor):\n",
    "    n = len(vetor)\n",
    "    for i in range (1, n):\n",
    "        marcado = vetor [i]\n",
    "        j = i-1\n",
    "        while j >= 0 and marcado < vetor[j]:\n",
    "           vetor[j+1] = vetor[j]\n",
    "           j -= 1\n",
    "        vetor [j+1] = marcado\n",
    "    return vetor"
   ]
  }
 ]
}