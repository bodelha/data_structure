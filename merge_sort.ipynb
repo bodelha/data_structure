{
 "metadata": {
  "language_info": {
   "codemirror_mode": {
    "name": "ipython",
    "version": 3
   },
   "file_extension": ".py",
   "mimetype": "text/x-python",
   "name": "python",
   "nbconvert_exporter": "python",
   "pygments_lexer": "ipython3",
   "version": 3
  },
  "orig_nbformat": 2
 },
 "nbformat": 4,
 "nbformat_minor": 2,
 "cells": [
  {
   "cell_type": "code",
   "execution_count": null,
   "metadata": {},
   "outputs": [],
   "source": [
    "def merge_sort (vetor):\n",
    "    if len (vetor) > 1:\n",
    "        divisao = len(vetor)//2\n",
    "        esquerda = vetor[:divisao].copy()\n",
    "        direita = vetor [divisao:].copy\n",
    "\n",
    "        merge_sort(esquerda)\n",
    "        merge_sort(direita)\n",
    "\n",
    "        i = j = k = 0\n",
    "        while i < len(esquerda) and j < len(direita):\n",
    "            if esquerda [i] < direita [j]:\n",
    "                vetor [k] = esquerda [i]\n",
    "                i += 1\n",
    "            else:\n",
    "                vetor [k] = direita [j]\n",
    "                j += 1\n",
    "            k += 1\n",
    "        \n",
    "        while i < len(esquerda):\n",
    "            vetor [k] = esquerda [i]\n",
    "            i += 1\n",
    "            k += 1\n",
    "        \n",
    "        while j < len (direita):\n",
    "            vetor [k] = direita [j]\n",
    "            j += 1\n",
    "            k += 1\n",
    "    return vetor\n"
   ]
  }
 ]
}