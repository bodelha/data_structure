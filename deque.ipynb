{
 "metadata": {
  "language_info": {
   "codemirror_mode": {
    "name": "ipython",
    "version": 3
   },
   "file_extension": ".py",
   "mimetype": "text/x-python",
   "name": "python",
   "nbconvert_exporter": "python",
   "pygments_lexer": "ipython3",
   "version": "3.7.6-final"
  },
  "orig_nbformat": 2,
  "kernelspec": {
   "name": "python_defaultSpec_1599881732028",
   "display_name": "Python 3.7.6 64-bit ('Miniconda3': conda)"
  }
 },
 "nbformat": 4,
 "nbformat_minor": 2,
 "cells": [
  {
   "cell_type": "code",
   "execution_count": 1,
   "metadata": {},
   "outputs": [],
   "source": [
    "import numpy as np"
   ]
  },
  {
   "cell_type": "code",
   "execution_count": 8,
   "metadata": {},
   "outputs": [],
   "source": [
    "class Deque:\n",
    "    def __init__ (self, capacidade):\n",
    "        self.capacidade = capacidade\n",
    "        self.inicio = -1\n",
    "        self.fim = 0\n",
    "        # self.numero_elementos = 0\n",
    "        self.valores = np.empty (self.capacidade, dtype=int)\n",
    "\n",
    "    def __deque_cheio (self):\n",
    "        # return self.numero_elementos == self.capacidade\n",
    "        return (self.inicio == 0 and self.fim == self.capacidade -1) or self.inicio == self.fim + 1\n",
    "\n",
    "\n",
    "    def __deque_vazio (self):\n",
    "        # return self.numero_elementos == 0\n",
    "        return self.inicio == -1\n",
    "\n",
    "    def inserir_inicio (self, valor):\n",
    "        if self.__deque_cheio():\n",
    "            print ('Cheio')\n",
    "            return\n",
    "        if self.inicio == -1:\n",
    "            self.inicio = 0\n",
    "            self.fim = 0\n",
    "        elif self.inicio == 0:\n",
    "            self.inicio = self.capacidade -1\n",
    "        else:\n",
    "            self.inicio -= 1\n",
    "        self.valores [self.inicio] = valor\n",
    "\n",
    "    def inserir_final (self, valor):\n",
    "        if self.__deque_cheio():\n",
    "            print ('Cheio')\n",
    "            return\n",
    "        if self.inicio == -1:\n",
    "            self.inicio += 1\n",
    "            self.fim = 0\n",
    "        elif self.fim == self.capacidade - 1:\n",
    "            self.fim = 0\n",
    "        else:\n",
    "            self.fim += 1\n",
    "        self.valores [self.fim] = valor\n",
    "\n",
    "    def exlui_inicio(self):\n",
    "        if self.__deque_vazio():\n",
    "            print (\"Vazio\")\n",
    "            return\n",
    "        if self.inicio == self.fim:\n",
    "            self.inicio = -1\n",
    "            self.fim = 0\n",
    "        elif self.inicio != self.capacidade -1:\n",
    "            self.inicio += 1\n",
    "        else:\n",
    "            self.inicio = 0\n",
    "\n",
    "    def exclui_final (self):\n",
    "        if self.__deque_vazio():\n",
    "            print (\"Vazio\")\n",
    "            return\n",
    "        if self.inicio == self.fim:\n",
    "            self.inicio = -1\n",
    "            self.fim = 0\n",
    "        elif self.fim == 0:\n",
    "            self.fim == self.capacidade -1\n",
    "        else:\n",
    "            self.fim -= 1\n",
    "\n",
    "    def get_inicio (self):\n",
    "        if self.__deque_vazio():\n",
    "            print (\"Vazio\")\n",
    "            return\n",
    "        return self.valores[self.inicio]\n",
    "\n",
    "    def get_fim (self):\n",
    "        if self.__deque_vazio():\n",
    "            print (\"Vazio\")\n",
    "            return\n",
    "        return self.valores[self.fim]"
   ]
  },
  {
   "cell_type": "code",
   "execution_count": 9,
   "metadata": {},
   "outputs": [],
   "source": [
    "deque = Deque(5)"
   ]
  },
  {
   "cell_type": "code",
   "execution_count": 10,
   "metadata": {},
   "outputs": [],
   "source": [
    "deque.inserir_final (5)"
   ]
  },
  {
   "cell_type": "code",
   "execution_count": 19,
   "metadata": {},
   "outputs": [
    {
     "output_type": "execute_result",
     "data": {
      "text/plain": "(3, 10)"
     },
     "metadata": {},
     "execution_count": 19
    }
   ],
   "source": [
    "deque.get_inicio(), deque.get_fim ()"
   ]
  },
  {
   "cell_type": "code",
   "execution_count": 12,
   "metadata": {},
   "outputs": [],
   "source": [
    "deque.inserir_final (10)"
   ]
  },
  {
   "cell_type": "code",
   "execution_count": 14,
   "metadata": {},
   "outputs": [],
   "source": [
    "deque.inserir_inicio (3)"
   ]
  },
  {
   "cell_type": "code",
   "execution_count": 16,
   "metadata": {},
   "outputs": [],
   "source": [
    "deque.inserir_inicio (2)\n",
    "deque.inserir_final (11)\n"
   ]
  },
  {
   "cell_type": "code",
   "execution_count": 18,
   "metadata": {},
   "outputs": [],
   "source": [
    "deque.exclui_final ()\n",
    "deque.exlui_inicio ()"
   ]
  },
  {
   "cell_type": "code",
   "execution_count": 20,
   "metadata": {},
   "outputs": [
    {
     "output_type": "execute_result",
     "data": {
      "text/plain": "array([ 5, 10, 11,  2,  3])"
     },
     "metadata": {},
     "execution_count": 20
    }
   ],
   "source": [
    "deque.valores"
   ]
  },
  {
   "cell_type": "code",
   "execution_count": 21,
   "metadata": {},
   "outputs": [
    {
     "output_type": "execute_result",
     "data": {
      "text/plain": "(4, 1)"
     },
     "metadata": {},
     "execution_count": 21
    }
   ],
   "source": [
    "deque.inicio, deque.fim"
   ]
  },
  {
   "cell_type": "code",
   "execution_count": null,
   "metadata": {},
   "outputs": [],
   "source": []
  }
 ]
}