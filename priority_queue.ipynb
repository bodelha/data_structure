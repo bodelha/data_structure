{
 "metadata": {
  "language_info": {
   "codemirror_mode": {
    "name": "ipython",
    "version": 3
   },
   "file_extension": ".py",
   "mimetype": "text/x-python",
   "name": "python",
   "nbconvert_exporter": "python",
   "pygments_lexer": "ipython3",
   "version": "3.7.6-final"
  },
  "orig_nbformat": 2,
  "kernelspec": {
   "name": "python_defaultSpec_1599073711504",
   "display_name": "Python 3.7.6 64-bit ('Anaconda3': conda)"
  }
 },
 "nbformat": 4,
 "nbformat_minor": 2,
 "cells": [
  {
   "cell_type": "code",
   "execution_count": null,
   "metadata": {},
   "outputs": [],
   "source": [
    "import numpy as np"
   ]
  },
  {
   "cell_type": "code",
   "execution_count": 66,
   "metadata": {
    "tags": []
   },
   "outputs": [],
   "source": [
    "class PriorityQueue:\n",
    "    def __init__ (self, capacidade):\n",
    "        self.__capacidade = capacidade\n",
    "        self.__numero_elementos = 0\n",
    "        self.__valores = np.empty(self.__capacidade, dtype=int)\n",
    "\n",
    "\n",
    "    def __fila_vazia (self):\n",
    "        return self.__numero_elementos == 0\n",
    "\n",
    "    def __fila_cheia (self):\n",
    "        return self.__numero_elementos == self.__capacidade\n",
    "\n",
    "    def enfileirar (self, valor):\n",
    "        if self.__fila_cheia():\n",
    "            print('Fila cheia')\n",
    "            return\n",
    "        elif self.__fila_vazia():\n",
    "            self.__valores[self.__numero_elementos] = valor\n",
    "        else:\n",
    "            x = self.__numero_elementos - 1\n",
    "            while x >= 0:\n",
    "                if valor > self.__valores [x]:\n",
    "                    self.__valores[x + 1] = self.__valores [x]\n",
    "                else:\n",
    "                    break\n",
    "                x -= 1\n",
    "            self.__valores[x + 1] = valor\n",
    "        self.__numero_elementos +=1\n",
    "\n",
    "    def desenfileirar (self):\n",
    "        if self.__fila_vazia():\n",
    "            print ('Fila vazia')\n",
    "            return\n",
    "        else:\n",
    "            self.__numero_elementos -= 1\n",
    "            return self.__valores[self.__numero_elementos]\n",
    "\n",
    "\n",
    "    def primeiro (self):\n",
    "        if self.__fila_vazia():\n",
    "            print (\"Fila vazia\")\n",
    "            return\n",
    "        else:\n",
    "            #maior prioritario\n",
    "            return self.__valores[self.__numero_elementos- 1]\n",
    "            # menor prioritario\n",
    "            # return self.valores[0]"
   ]
  },
  {
   "cell_type": "code",
   "execution_count": 67,
   "metadata": {},
   "outputs": [],
   "source": [
    "fila  = PriorityQueue (5)"
   ]
  },
  {
   "cell_type": "code",
   "execution_count": 68,
   "metadata": {
    "tags": []
   },
   "outputs": [
    {
     "output_type": "stream",
     "name": "stdout",
     "text": "Fila vazia\n"
    }
   ],
   "source": [
    "fila.primeiro()"
   ]
  },
  {
   "cell_type": "code",
   "execution_count": 69,
   "metadata": {
    "tags": []
   },
   "outputs": [
    {
     "output_type": "execute_result",
     "data": {
      "text/plain": "30"
     },
     "metadata": {},
     "execution_count": 69
    }
   ],
   "source": [
    "fila.enfileirar(30)\n",
    "fila.primeiro()\n"
   ]
  },
  {
   "cell_type": "code",
   "execution_count": 70,
   "metadata": {},
   "outputs": [
    {
     "output_type": "execute_result",
     "data": {
      "text/plain": "30"
     },
     "metadata": {},
     "execution_count": 70
    }
   ],
   "source": [
    "fila.enfileirar(50)\n",
    "fila.primeiro()\n"
   ]
  },
  {
   "cell_type": "code",
   "execution_count": 71,
   "metadata": {},
   "outputs": [
    {
     "output_type": "execute_result",
     "data": {
      "text/plain": "10"
     },
     "metadata": {},
     "execution_count": 71
    }
   ],
   "source": [
    "fila.enfileirar(10)\n",
    "fila.primeiro()"
   ]
  },
  {
   "cell_type": "code",
   "execution_count": 72,
   "metadata": {},
   "outputs": [
    {
     "output_type": "execute_result",
     "data": {
      "text/plain": "10"
     },
     "metadata": {},
     "execution_count": 72
    }
   ],
   "source": [
    "fila.enfileirar(40)\n",
    "fila.primeiro()"
   ]
  },
  {
   "cell_type": "code",
   "execution_count": 73,
   "metadata": {},
   "outputs": [
    {
     "output_type": "execute_result",
     "data": {
      "text/plain": "10"
     },
     "metadata": {},
     "execution_count": 73
    }
   ],
   "source": [
    "fila.enfileirar(20)\n",
    "fila.primeiro()"
   ]
  },
  {
   "cell_type": "code",
   "execution_count": 78,
   "metadata": {
    "tags": []
   },
   "outputs": [
    {
     "output_type": "stream",
     "name": "stdout",
     "text": "Fila vazia\n"
    }
   ],
   "source": [
    "fila.desenfileirar()\n",
    "fila.primeiro()"
   ]
  },
  {
   "cell_type": "code",
   "execution_count": null,
   "metadata": {},
   "outputs": [],
   "source": []
  }
 ]
}