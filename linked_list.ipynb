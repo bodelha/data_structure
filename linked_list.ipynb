{
 "metadata": {
  "language_info": {
   "codemirror_mode": {
    "name": "ipython",
    "version": 3
   },
   "file_extension": ".py",
   "mimetype": "text/x-python",
   "name": "python",
   "nbconvert_exporter": "python",
   "pygments_lexer": "ipython3",
   "version": "3.7.6-final"
  },
  "orig_nbformat": 2,
  "kernelspec": {
   "name": "python_defaultSpec_1599941111498",
   "display_name": "Python 3.7.6 64-bit ('Miniconda3': conda)"
  }
 },
 "nbformat": 4,
 "nbformat_minor": 2,
 "cells": [
  {
   "cell_type": "code",
   "execution_count": 1,
   "metadata": {},
   "outputs": [],
   "source": [
    "import numpy as np"
   ]
  },
  {
   "cell_type": "code",
   "execution_count": 61,
   "metadata": {},
   "outputs": [],
   "source": [
    "class Node:\n",
    "    def __init__ (self, valor):\n",
    "        self.valor = valor\n",
    "        self.next = None\n",
    "    \n",
    "    def mostra_no (self):\n",
    "        print (self.valor)\n",
    "\n",
    "class LinkedList:\n",
    "    def __init__ (self):\n",
    "        self.head = None\n",
    "\n",
    "    def insere_inicio (self, valor):\n",
    "        new = Node (valor)\n",
    "        new.next = self.head\n",
    "        self.head = new\n",
    "\n",
    "    def mostrar (self):\n",
    "        atual = self.head\n",
    "        while atual:\n",
    "            atual.mostra_no()\n",
    "            atual = atual.next\n",
    "\n",
    "    def exclui_inicio (self):\n",
    "        temp = self.head\n",
    "        if not temp:\n",
    "            print (\"Vazia\")\n",
    "            return\n",
    "        self.head = self.head.next \n",
    "        return temp.valor\n",
    "\n",
    "    def pesquisa (self, valor):\n",
    "        atual = self.head\n",
    "        while atual and atual.valor != valor:\n",
    "            atual = atual.next\n",
    "        return atual\n",
    "\n",
    "    def exclui_valor (self, valor):\n",
    "        atual = self.head\n",
    "        if not atual:\n",
    "            print (\"vazia\")\n",
    "            return\n",
    "        while atual and atual.valor != valor:\n",
    "            atual = atual.next\n",
    "        else:\n",
    "            if not atual:\n",
    "                print (\"Not in list\")\n",
    "        while atual and atual.next:\n",
    "            atual.valor = atual.next.valor\n",
    "            atual.next = atual.next.next"
   ]
  },
  {
   "cell_type": "code",
   "execution_count": 62,
   "metadata": {},
   "outputs": [],
   "source": [
    "lista = LinkedList ()\n",
    "lista.insere_inicio(8)\n",
    "lista.insere_inicio(5)\n",
    "lista.insere_inicio(6)\n",
    "lista.insere_inicio(2)\n",
    "lista.insere_inicio(-3)\n",
    "lista.insere_inicio(0)\n",
    "lista.insere_inicio(7)"
   ]
  },
  {
   "cell_type": "code",
   "execution_count": 76,
   "metadata": {
    "tags": []
   },
   "outputs": [],
   "source": [
    "lista.mostrar()"
   ]
  },
  {
   "cell_type": "code",
   "execution_count": 74,
   "metadata": {
    "tags": []
   },
   "outputs": [
    {
     "output_type": "stream",
     "name": "stdout",
     "text": "Not in list\n"
    }
   ],
   "source": [
    "lista.exclui_valor(6)"
   ]
  },
  {
   "cell_type": "code",
   "execution_count": 77,
   "metadata": {
    "tags": []
   },
   "outputs": [
    {
     "output_type": "stream",
     "name": "stdout",
     "text": "Vazia\n"
    }
   ],
   "source": [
    "lista.exclui_inicio()"
   ]
  },
  {
   "cell_type": "code",
   "execution_count": null,
   "metadata": {},
   "outputs": [],
   "source": []
  },
  {
   "cell_type": "code",
   "execution_count": null,
   "metadata": {},
   "outputs": [],
   "source": []
  }
 ]
}