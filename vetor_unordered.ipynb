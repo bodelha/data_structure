{
 "metadata": {
  "language_info": {
   "codemirror_mode": {
    "name": "ipython",
    "version": 3
   },
   "file_extension": ".py",
   "mimetype": "text/x-python",
   "name": "python",
   "nbconvert_exporter": "python",
   "pygments_lexer": "ipython3",
   "version": "3.7.6-final"
  },
  "orig_nbformat": 2,
  "kernelspec": {
   "name": "python_defaultSpec_1598048809135",
   "display_name": "Python 3.7.6 64-bit ('Anaconda3': conda)"
  }
 },
 "nbformat": 4,
 "nbformat_minor": 2,
 "cells": [
  {
   "cell_type": "code",
   "execution_count": 3,
   "metadata": {},
   "outputs": [],
   "source": [
    "import numpy as np\n",
    "\n",
    "class VetorNaoOrdenado:\n",
    "    def __init__(self, capacidade):\n",
    "        self.capacidade = capacidade\n",
    "        self.ultima_posicao = -1\n",
    "        self.valores = np.empty(self.capacidade, dtype = int)\n",
    "\n",
    "    def imprime(self):\n",
    "        if self.ultima_posicao == -1:\n",
    "            print(\"O vetor está vazio\")\n",
    "        else:\n",
    "            for i in range (self.ultima_posicao + 1):\n",
    "                print(i, \" - \", self.valores[i])\n",
    "\n",
    "    def insere(self, valor):\n",
    "        if self.ultima_posicao == self.capacidade - 1:\n",
    "            print(\"capacidade máxima atingida\")\n",
    "        else:\n",
    "            self.ultima_posicao += 1\n",
    "            self.valores[self.ultima_posicao] = valor\n",
    "\n",
    "    def pesquisar (self, valor):\n",
    "        for i in range(self.ultima_posicao + 1):\n",
    "            if valor == self.valores[i]:\n",
    "                return i\n",
    "        return -1\n",
    "\n",
    "    def excluir (self, valor):\n",
    "        posicao = self.pesquisar (valor)\n",
    "        if posicao == -1:\n",
    "            return -1\n",
    "        else:\n",
    "            for i in range (posicao, self.ultima_posicao):\n",
    "                self.valores[i] = self.valores [i+1]\n",
    "            self.ultima_posicao -= 1\n",
    "            "
   ]
  },
  {
   "cell_type": "code",
   "execution_count": 4,
   "metadata": {},
   "outputs": [],
   "source": [
    "vetor = VetorNaoOrdenado(5)"
   ]
  },
  {
   "cell_type": "code",
   "execution_count": 5,
   "metadata": {
    "tags": []
   },
   "outputs": [
    {
     "output_type": "stream",
     "name": "stdout",
     "text": "O vetor está vazio\n"
    }
   ],
   "source": [
    "vetor.imprime()"
   ]
  },
  {
   "cell_type": "code",
   "execution_count": 6,
   "metadata": {
    "tags": []
   },
   "outputs": [],
   "source": [
    "vetor.insere (2)"
   ]
  },
  {
   "cell_type": "code",
   "execution_count": 7,
   "metadata": {
    "tags": []
   },
   "outputs": [
    {
     "output_type": "stream",
     "name": "stdout",
     "text": "capacidade máxima atingida\n"
    }
   ],
   "source": [
    "vetor.insere (3)\n",
    "vetor.insere (5)\n",
    "vetor.insere (8)\n",
    "vetor.insere (1)\n",
    "vetor.insere (7)"
   ]
  },
  {
   "cell_type": "code",
   "execution_count": 10,
   "metadata": {
    "tags": []
   },
   "outputs": [
    {
     "output_type": "stream",
     "name": "stdout",
     "text": "0  -  2\n1  -  3\n2  -  8\n3  -  1\n"
    }
   ],
   "source": [
    "vetor.imprime()"
   ]
  },
  {
   "cell_type": "code",
   "execution_count": 9,
   "metadata": {},
   "outputs": [],
   "source": [
    "vetor.excluir(5)"
   ]
  },
  {
   "cell_type": "code",
   "execution_count": 43,
   "metadata": {
    "tags": []
   },
   "outputs": [
    {
     "output_type": "stream",
     "name": "stdout",
     "text": "não é um número\n"
    }
   ],
   "source": [
    "n = input()\n",
    "try:\n",
    "    n = int(n)\n",
    "except:\n",
    "    print(\"não é um número\")"
   ]
  },
  {
   "cell_type": "code",
   "execution_count": 45,
   "metadata": {
    "tags": []
   },
   "outputs": [
    {
     "output_type": "stream",
     "name": "stdout",
     "text": "0  -  3\n1  -  2\n2  -  4\n3  -  5\n4  -  6\n5  -  1\n"
    },
    {
     "output_type": "execute_result",
     "data": {
      "text/plain": "array([ 3,  2,  4,  6,  1,  1,  5,  0, 10,  1])"
     },
     "metadata": {},
     "execution_count": 45
    }
   ],
   "source": []
  },
  {
   "cell_type": "code",
   "execution_count": 2,
   "metadata": {},
   "outputs": [
    {
     "output_type": "execute_result",
     "data": {
      "text/plain": "''"
     },
     "metadata": {},
     "execution_count": 2
    }
   ],
   "source": [
    "s = input('--> ')  \n",
    "\n",
    "s  "
   ]
  },
  {
   "cell_type": "code",
   "execution_count": null,
   "metadata": {},
   "outputs": [],
   "source": []
  }
 ]
}