{
 "metadata": {
  "language_info": {
   "codemirror_mode": {
    "name": "ipython",
    "version": 3
   },
   "file_extension": ".py",
   "mimetype": "text/x-python",
   "name": "python",
   "nbconvert_exporter": "python",
   "pygments_lexer": "ipython3",
   "version": "3.7.6-final"
  },
  "orig_nbformat": 2,
  "kernelspec": {
   "name": "Python 3.7.6 64-bit ('Miniconda3': conda)",
   "display_name": "Python 3.7.6 64-bit ('Miniconda3': conda)",
   "metadata": {
    "interpreter": {
     "hash": "ecf5722fdaf1897a315d257d89d94520bfcaa453217d5becf09b39e73618b0de"
    }
   }
  }
 },
 "nbformat": 4,
 "nbformat_minor": 2,
 "cells": [
  {
   "cell_type": "code",
   "execution_count": 4,
   "metadata": {},
   "outputs": [],
   "source": [
    "class Node:\n",
    "    def __init__ (self, valor):\n",
    "        self.value = valor\n",
    "        self.left = None\n",
    "        self.right = None\n",
    "    \n",
    "    def __repr__ (self):\n",
    "        return \"value: \" + repr(self.value) + \", left: \" + repr(self.left) + \", right: \" + repr(self.right)"
   ]
  },
  {
   "cell_type": "code",
   "execution_count": 33,
   "metadata": {},
   "outputs": [],
   "source": [
    "class BinarySearchTree:\n",
    "    def __init__ (self):\n",
    "        self.root = None\n",
    "        self.links = [] #to use webgraphviz  for visualization\n",
    "\n",
    "    def insert (self, valor):\n",
    "        new = Node (valor)\n",
    "        if not self.root:\n",
    "            self.root = new\n",
    "        else:\n",
    "            atual = self.root\n",
    "            while True:\n",
    "                pai = atual\n",
    "                if valor < pai.value:\n",
    "                    if not pai.left:\n",
    "                        self.links.append(str(pai.value) + \"->\" + str(new.value)) #to use webgraphviz  for visualization\n",
    "                        pai.left = new\n",
    "                        return\n",
    "                    else:\n",
    "                        atual = pai.left\n",
    "                else:\n",
    "                    if not pai.right:\n",
    "                        self.links.append(str(pai.value) + \"->\" + str(new.value)) #to use webgraphviz  for visualization\n",
    "                        pai.right = new\n",
    "                        return\n",
    "                    else:\n",
    "                        atual = pai.right\n",
    "\n",
    "    def search (self, valor):\n",
    "        atual = self.root\n",
    "        while valor != atual.value:\n",
    "            if valor < atual.value and atual.left:\n",
    "                atual = atual.left\n",
    "            elif valor > atual.value and atual.right:\n",
    "                atual = atual.right\n",
    "            else:\n",
    "                break\n",
    "        else:\n",
    "            return atual\n",
    "\n",
    "    def preorder_traversal(self, atual=None, out=list()):\n",
    "        \"\"\"raiz>esquerda>direita\"\"\"\n",
    "        if not atual:\n",
    "            atual = self.root\n",
    "        print (atual.value)\n",
    "        out.append(atual.value)\n",
    "        if atual.left:\n",
    "            self.preorder_traversal(atual.left)\n",
    "        if atual.right:\n",
    "            self.preorder_traversal(atual.right)\n",
    "        return out\n",
    "        \n",
    "    def inorder_traversal (self, inicio=None, out=list()):\n",
    "        \"\"\"esquerda>raiz>direita\n",
    "        argumentos em ordem crescente\"\"\"\n",
    "        if not inicio:\n",
    "            inicio = self.root\n",
    "        if inicio.left:\n",
    "            self.inorder_traversal(inicio.left)\n",
    "        print (inicio.values)\n",
    "        out.append(inicio.value)\n",
    "        if inicio.right:\n",
    "            self.inorder_traversal(inicio.right)\n",
    "        return out\n",
    "\n",
    "    def postorder_traversal (self, inicio=None, out=list()):\n",
    "        if not inicio:\n",
    "            inicio = self.root\n",
    "        if inicio.left:\n",
    "            self.postorder_traversal (inicio.left)\n",
    "        if inicio.right:\n",
    "            self.postorder_traversal (inicio.right)\n",
    "        print (inicio.value)\n",
    "        out.append(inicio.value)\n",
    "        return out\n",
    "\n",
    "    def get_subtree(self, atual=None, new_tree=None):\n",
    "        if not new_tree:\n",
    "            new_tree = BinarySearchTree()\n",
    "        if not atual:\n",
    "            atual = self.root\n",
    "        new_tree.insert(atual.value)\n",
    "        if atual.left:\n",
    "            self.get_subtree(atual.left, new_tree)\n",
    "        if atual.right:\n",
    "            self.get_subtree(atual.right, new_tree)\n",
    "        return new_tree\n",
    "\n",
    "    def remove (self, valor):\n",
    "        if not self.root:\n",
    "            print (\"Empty Tree\")\n",
    "            return -1\n",
    "        anterior = self.root\n",
    "        atual = self.root\n",
    "        if atual.value == valor:\n",
    "            values = self.preorder_traversal()\n",
    "            values.remove(valor)\n",
    "            new_tree = BinarySearchTree()\n",
    "            for value in values:\n",
    "                new_tree.insert(value)\n",
    "            return new_tree\n",
    "        while atual.value != valor:\n",
    "            anterior = atual\n",
    "            if valor < atual.value and atual.left:\n",
    "                atual = atual.left\n",
    "            elif valor > atual.value and atual.right:\n",
    "                atual = atual.right\n",
    "            else:\n",
    "                print(\"Value not in Tree\")\n",
    "                return -1\n",
    "        subtree = self.get_subtree(atual=atual)\n",
    "        subtree_values = subtree.preorder_traversal()\n",
    "        subtree_values.remove(valor)\n",
    "        self.links.remove(f'{anterior.value}->{valor}')\n",
    "        for item in subtree.links:\n",
    "            self.links.remove(item)\n",
    "        if atual.value < anterior.value:\n",
    "            anterior.left = None\n",
    "            for item in subtree_values:\n",
    "                self.insert(item)\n",
    "        elif atual.value > anterior.value:\n",
    "            anterior.right = None\n",
    "            for item in subtree_values:\n",
    "                self.insert(item)\n",
    "        return 0"
   ]
  },
  {
   "cell_type": "code",
   "execution_count": 34,
   "metadata": {},
   "outputs": [],
   "source": [
    "tree = BinarySearchTree()\n",
    "tree.insert(53)\n",
    "tree.insert(30)\n",
    "tree.insert(14)\n",
    "tree.insert(39)\n",
    "tree.insert(9)\n",
    "tree.insert(23)\n",
    "tree.insert(34)\n",
    "tree.insert(49)\n",
    "tree.insert(72)\n",
    "tree.insert(61)\n",
    "tree.insert(84)\n",
    "tree.insert(79)"
   ]
  },
  {
   "cell_type": "code",
   "execution_count": 11,
   "metadata": {},
   "outputs": [
    {
     "output_type": "stream",
     "name": "stdout",
     "text": [
      "value: 49, left: None, right: None\nNone\nNone\n"
     ]
    }
   ],
   "source": [
    "print (tree.search (49))\n",
    "print (tree.search (50))\n",
    "print (tree.search (37))"
   ]
  },
  {
   "cell_type": "code",
   "execution_count": 31,
   "metadata": {},
   "outputs": [
    {
     "output_type": "stream",
     "name": "stdout",
     "text": [
      "53\n30\n14\n9\n23\n39\n34\n49\n72\n61\n84\n79\n"
     ]
    }
   ],
   "source": [
    "tree.preorder_traversal()\n"
   ]
  },
  {
   "cell_type": "code",
   "execution_count": 32,
   "metadata": {},
   "outputs": [
    {
     "output_type": "stream",
     "name": "stdout",
     "text": [
      "9\n14\n23\n30\n34\n39\n49\n53\n61\n72\n79\n84\n"
     ]
    }
   ],
   "source": [
    "j = tree.inorder_traversal())\n",
    "print(f'j:\\n{j})\n"
   ]
  },
  {
   "cell_type": "code",
   "execution_count": 35,
   "metadata": {},
   "outputs": [
    {
     "output_type": "stream",
     "name": "stdout",
     "text": [
      "9\n23\n14\n34\n49\n39\n30\n61\n79\n84\n72\n53\n"
     ]
    }
   ],
   "source": [
    "tree.postorder_traversal()"
   ]
  },
  {
   "cell_type": "code",
   "execution_count": null,
   "metadata": {},
   "outputs": [],
   "source": []
  }
 ]
}