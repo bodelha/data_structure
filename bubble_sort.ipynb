{
 "metadata": {
  "language_info": {
   "codemirror_mode": {
    "name": "ipython",
    "version": 3
   },
   "file_extension": ".py",
   "mimetype": "text/x-python",
   "name": "python",
   "nbconvert_exporter": "python",
   "pygments_lexer": "ipython3",
   "version": "3.7.6-final"
  },
  "orig_nbformat": 2,
  "kernelspec": {
   "name": "python_defaultSpec_1600907024581",
   "display_name": "Python 3.7.6 64-bit ('Miniconda3': conda)"
  }
 },
 "nbformat": 4,
 "nbformat_minor": 2,
 "cells": [
  {
   "cell_type": "code",
   "execution_count": 1,
   "metadata": {},
   "outputs": [],
   "source": [
    "import numpy as np"
   ]
  },
  {
   "cell_type": "code",
   "execution_count": 2,
   "metadata": {},
   "outputs": [],
   "source": [
    "def bubble_sort(vetor):\n",
    "    n = len(vetor)\n",
    "    for i in range(n):\n",
    "        for j in range (n-i-1):\n",
    "            if vetor[j] > vetor [j+1]:\n",
    "                temp = vetor [j]\n",
    "                vetor[j] = vetor [j+1]\n",
    "                vetor [j+1] = temp\n",
    "    return vetor"
   ]
  },
  {
   "cell_type": "code",
   "execution_count": 3,
   "metadata": {},
   "outputs": [
    {
     "output_type": "execute_result",
     "data": {
      "text/plain": "array([ 3,  8, 15, 34])"
     },
     "metadata": {},
     "execution_count": 3
    }
   ],
   "source": [
    "bubble_sort(np.array([15,34,8,3]))"
   ]
  },
  {
   "cell_type": "code",
   "execution_count": 4,
   "metadata": {},
   "outputs": [
    {
     "output_type": "execute_result",
     "data": {
      "text/plain": "array([ 5,  6,  7,  8,  9, 10])"
     },
     "metadata": {},
     "execution_count": 4
    }
   ],
   "source": [
    "bubble_sort(np.array([10, 9, 8, 7, 6, 5]))"
   ]
  },
  {
   "cell_type": "code",
   "execution_count": null,
   "metadata": {},
   "outputs": [],
   "source": []
  }
 ]
}